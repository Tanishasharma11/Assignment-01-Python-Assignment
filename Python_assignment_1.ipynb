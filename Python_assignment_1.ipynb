{
  "nbformat": 4,
  "nbformat_minor": 0,
  "metadata": {
    "colab": {
      "provenance": [],
      "authorship_tag": "ABX9TyMgoaEE+a2ZUpSdPARLe2hJ",
      "include_colab_link": true
    },
    "kernelspec": {
      "name": "python3",
      "display_name": "Python 3"
    },
    "language_info": {
      "name": "python"
    }
  },
  "cells": [
    {
      "cell_type": "markdown",
      "metadata": {
        "id": "view-in-github",
        "colab_type": "text"
      },
      "source": [
        "<a href=\"https://colab.research.google.com/github/Tanishasharma11/Assignment-01-Python-Assignment/blob/main/Python_assignment_1.ipynb\" target=\"_parent\"><img src=\"https://colab.research.google.com/assets/colab-badge.svg\" alt=\"Open In Colab\"/></a>"
      ]
    },
    {
      "cell_type": "markdown",
      "source": [
        "**Q1 L is a list defined as L= [11, 12, 13, 14].**"
      ],
      "metadata": {
        "id": "eXBQj_KRWIFc"
      }
    },
    {
      "cell_type": "code",
      "source": [
        "L=[11,12,13,14]"
      ],
      "metadata": {
        "id": "ogWj7kfvWKgm"
      },
      "execution_count": 6,
      "outputs": []
    },
    {
      "cell_type": "code",
      "source": [
        "print(L)"
      ],
      "metadata": {
        "colab": {
          "base_uri": "https://localhost:8080/"
        },
        "id": "6_X0xuw-WUb4",
        "outputId": "69663b78-a5eb-48ae-fd51-d1c2632b0f2f"
      },
      "execution_count": 7,
      "outputs": [
        {
          "output_type": "stream",
          "name": "stdout",
          "text": [
            "[11, 12, 13, 14]\n"
          ]
        }
      ]
    },
    {
      "cell_type": "markdown",
      "source": [
        "I) WAP to add 50 and 60 to L"
      ],
      "metadata": {
        "id": "nmBb1pXVWY28"
      }
    },
    {
      "cell_type": "code",
      "source": [
        "L.append(50)"
      ],
      "metadata": {
        "id": "k1RQOJRyWcvH"
      },
      "execution_count": 8,
      "outputs": []
    },
    {
      "cell_type": "code",
      "source": [
        "L.append(60)"
      ],
      "metadata": {
        "id": "foKTyRKiWj9p"
      },
      "execution_count": 9,
      "outputs": []
    },
    {
      "cell_type": "code",
      "source": [
        "print(L)"
      ],
      "metadata": {
        "colab": {
          "base_uri": "https://localhost:8080/"
        },
        "id": "cidSVfXrW4Bt",
        "outputId": "ebed5f8b-87eb-4746-b70c-97d492e55e90"
      },
      "execution_count": 10,
      "outputs": [
        {
          "output_type": "stream",
          "name": "stdout",
          "text": [
            "[11, 12, 13, 14, 50, 60]\n"
          ]
        }
      ]
    },
    {
      "cell_type": "markdown",
      "source": [
        "ii) WAP to remove 11 and 13 from L"
      ],
      "metadata": {
        "id": "VeuGCC8iWuq6"
      }
    },
    {
      "cell_type": "code",
      "source": [
        "L.remove(11)"
      ],
      "metadata": {
        "id": "sV8dIn5DWyha"
      },
      "execution_count": 11,
      "outputs": []
    },
    {
      "cell_type": "code",
      "source": [
        "L.remove(13)"
      ],
      "metadata": {
        "id": "mRY2Bly-XFF8"
      },
      "execution_count": 12,
      "outputs": []
    },
    {
      "cell_type": "code",
      "source": [
        "print(L)"
      ],
      "metadata": {
        "colab": {
          "base_uri": "https://localhost:8080/"
        },
        "id": "HSVVJJaJXHpz",
        "outputId": "6c9479f4-3b61-4388-9e1c-1a0127e03f96"
      },
      "execution_count": 13,
      "outputs": [
        {
          "output_type": "stream",
          "name": "stdout",
          "text": [
            "[12, 14, 50, 60]\n"
          ]
        }
      ]
    },
    {
      "cell_type": "markdown",
      "source": [
        "iii)  WAP to sort L in ascending order."
      ],
      "metadata": {
        "id": "fBBRI99IXKTL"
      }
    },
    {
      "cell_type": "code",
      "source": [
        "L.sort()"
      ],
      "metadata": {
        "id": "s848wwVSXOuv"
      },
      "execution_count": 15,
      "outputs": []
    },
    {
      "cell_type": "code",
      "source": [
        "print(L)"
      ],
      "metadata": {
        "colab": {
          "base_uri": "https://localhost:8080/"
        },
        "id": "ZeyUZjqWXUeI",
        "outputId": "35724471-b786-41cc-de02-ff4d417f090d"
      },
      "execution_count": 16,
      "outputs": [
        {
          "output_type": "stream",
          "name": "stdout",
          "text": [
            "[12, 14, 50, 60]\n"
          ]
        }
      ]
    },
    {
      "cell_type": "markdown",
      "source": [
        "iv) WAP to sort L in descending order"
      ],
      "metadata": {
        "id": "vuY6kJjCXXNv"
      }
    },
    {
      "cell_type": "code",
      "source": [
        "L.sort(reverse=True)"
      ],
      "metadata": {
        "id": "YCi7EY88Xg3H"
      },
      "execution_count": 17,
      "outputs": []
    },
    {
      "cell_type": "code",
      "source": [
        "print(L)"
      ],
      "metadata": {
        "colab": {
          "base_uri": "https://localhost:8080/"
        },
        "id": "cZgjtpmcXk5u",
        "outputId": "54a63437-c1e3-4919-e6c8-705d502e16d4"
      },
      "execution_count": 18,
      "outputs": [
        {
          "output_type": "stream",
          "name": "stdout",
          "text": [
            "[60, 50, 14, 12]\n"
          ]
        }
      ]
    },
    {
      "cell_type": "markdown",
      "source": [
        "v) WAP to search for 13 in L."
      ],
      "metadata": {
        "id": "9rfeOGZJXnhS"
      }
    },
    {
      "cell_type": "code",
      "source": [
        "L=[11,12,13,14]"
      ],
      "metadata": {
        "id": "NPu6M_owXsP-"
      },
      "execution_count": 19,
      "outputs": []
    },
    {
      "cell_type": "code",
      "source": [
        "index = L.index(13)\n"
      ],
      "metadata": {
        "id": "6cXBdgGNX1am"
      },
      "execution_count": 20,
      "outputs": []
    },
    {
      "cell_type": "code",
      "source": [
        "print(\"Index of 13:\", index)"
      ],
      "metadata": {
        "colab": {
          "base_uri": "https://localhost:8080/"
        },
        "id": "IpZRQeSYX7qb",
        "outputId": "f74f916f-3cec-4903-b2e5-8f599d486664"
      },
      "execution_count": 21,
      "outputs": [
        {
          "output_type": "stream",
          "name": "stdout",
          "text": [
            "Index of 13: 2\n"
          ]
        }
      ]
    },
    {
      "cell_type": "markdown",
      "source": [
        "vi) WAP to count the number of elements present in L."
      ],
      "metadata": {
        "id": "NvDE9cbuX93R"
      }
    },
    {
      "cell_type": "code",
      "source": [
        "count = len(L)"
      ],
      "metadata": {
        "id": "R7h_q7vWYAvt"
      },
      "execution_count": 22,
      "outputs": []
    },
    {
      "cell_type": "code",
      "source": [
        "print(\"Number of elements:\", count)\n"
      ],
      "metadata": {
        "colab": {
          "base_uri": "https://localhost:8080/"
        },
        "id": "_jGFfzVWYKd7",
        "outputId": "b7f97c1f-41a6-4da2-f7ab-1c9de2b01997"
      },
      "execution_count": 23,
      "outputs": [
        {
          "output_type": "stream",
          "name": "stdout",
          "text": [
            "Number of elements: 4\n"
          ]
        }
      ]
    },
    {
      "cell_type": "markdown",
      "source": [
        "vii) WAP to sum all the elements in L."
      ],
      "metadata": {
        "id": "zCmhGorhYNGx"
      }
    },
    {
      "cell_type": "code",
      "source": [
        "total_sum = sum(L)"
      ],
      "metadata": {
        "id": "lF6M6dEBYRIH"
      },
      "execution_count": 24,
      "outputs": []
    },
    {
      "cell_type": "code",
      "source": [
        "print(\"Sum of elements:\", total_sum)"
      ],
      "metadata": {
        "colab": {
          "base_uri": "https://localhost:8080/"
        },
        "id": "-ReV5nv9YY7X",
        "outputId": "51135a06-b4d5-4b7f-b5a9-c7f56ca9db23"
      },
      "execution_count": 25,
      "outputs": [
        {
          "output_type": "stream",
          "name": "stdout",
          "text": [
            "Sum of elements: 50\n"
          ]
        }
      ]
    },
    {
      "cell_type": "markdown",
      "source": [
        "viii) WAP to sum all ODD numbers in L."
      ],
      "metadata": {
        "id": "aFck-lj9YbAy"
      }
    },
    {
      "cell_type": "code",
      "source": [
        "odd_sum = 0"
      ],
      "metadata": {
        "id": "860shlZxYfeJ"
      },
      "execution_count": 26,
      "outputs": []
    },
    {
      "cell_type": "code",
      "source": [
        "for num in L:\n",
        "    if num % 2 != 0:\n",
        "        odd_sum += num\n",
        "print(\"Sum of odd numbers:\", odd_sum)"
      ],
      "metadata": {
        "colab": {
          "base_uri": "https://localhost:8080/"
        },
        "id": "4ujHM4gGYoPm",
        "outputId": "f8cc8e0a-68a5-4395-d4bc-4ec418877ec1"
      },
      "execution_count": 27,
      "outputs": [
        {
          "output_type": "stream",
          "name": "stdout",
          "text": [
            "Sum of odd numbers: 24\n"
          ]
        }
      ]
    },
    {
      "cell_type": "markdown",
      "source": [
        "ix) WAP to sum all EVEN numbers in L."
      ],
      "metadata": {
        "id": "SXyLUJZ-YsrH"
      }
    },
    {
      "cell_type": "code",
      "source": [
        "even_sum = 0"
      ],
      "metadata": {
        "id": "KVEzB93ZYwPE"
      },
      "execution_count": 28,
      "outputs": []
    },
    {
      "cell_type": "code",
      "source": [
        "for num in L:\n",
        "    if num % 2 == 0:\n",
        "        even_sum += num\n",
        "print(\"Sum of even numbers:\", even_sum)\n"
      ],
      "metadata": {
        "colab": {
          "base_uri": "https://localhost:8080/"
        },
        "id": "PGX2G0xdZIp_",
        "outputId": "9f0bbb73-6e4f-4d4e-a32f-24082436b7ef"
      },
      "execution_count": 29,
      "outputs": [
        {
          "output_type": "stream",
          "name": "stdout",
          "text": [
            "Sum of even numbers: 26\n"
          ]
        }
      ]
    },
    {
      "cell_type": "markdown",
      "source": [
        "x) WAP to sum all PRIME numbers in L."
      ],
      "metadata": {
        "id": "cDRh2oS_ZKuy"
      }
    },
    {
      "cell_type": "code",
      "source": [
        "def is_prime(n):\n",
        "    if n < 2:\n",
        "        return False\n",
        "    for i in range(2, int(n**0.5) + 1):\n",
        "        if n % i == 0:\n",
        "            return False\n",
        "    return True\n"
      ],
      "metadata": {
        "id": "ZtRn3o4iZOZe"
      },
      "execution_count": 30,
      "outputs": []
    },
    {
      "cell_type": "code",
      "source": [
        "prime_sum = 0\n",
        "for num in L:\n",
        "    if is_prime(num):\n",
        "        prime_sum += num\n",
        "print(\"Sum of prime numbers:\", prime_sum)"
      ],
      "metadata": {
        "colab": {
          "base_uri": "https://localhost:8080/"
        },
        "id": "X1cbKkMGZWhD",
        "outputId": "fbaaf5dc-cb4a-4a0c-bafc-aeb480203b17"
      },
      "execution_count": 31,
      "outputs": [
        {
          "output_type": "stream",
          "name": "stdout",
          "text": [
            "Sum of prime numbers: 24\n"
          ]
        }
      ]
    },
    {
      "cell_type": "markdown",
      "source": [
        "xi) WAP to clear all the elements in L."
      ],
      "metadata": {
        "id": "6jNkxgRJZhB2"
      }
    },
    {
      "cell_type": "code",
      "source": [
        "L.clear()"
      ],
      "metadata": {
        "id": "FxkbpkKVZiA6"
      },
      "execution_count": 32,
      "outputs": []
    },
    {
      "cell_type": "code",
      "source": [
        "print(L)\n"
      ],
      "metadata": {
        "colab": {
          "base_uri": "https://localhost:8080/"
        },
        "id": "LQtBzlFPZoKd",
        "outputId": "1f02ac3d-8afd-40ad-9130-7e726ff76bb1"
      },
      "execution_count": 33,
      "outputs": [
        {
          "output_type": "stream",
          "name": "stdout",
          "text": [
            "[]\n"
          ]
        }
      ]
    },
    {
      "cell_type": "markdown",
      "source": [
        "xii) WAP to delete L."
      ],
      "metadata": {
        "id": "TR-xOxGKZr-M"
      }
    },
    {
      "cell_type": "code",
      "source": [
        "del L"
      ],
      "metadata": {
        "id": "rpKF8_JbZs2m"
      },
      "execution_count": 34,
      "outputs": []
    },
    {
      "cell_type": "markdown",
      "source": [
        "**Q2. D is a dictionary defined as D= {1:5.6, 2:7.8, 3:6.6, 4:8.7, 5:7.7}.**"
      ],
      "metadata": {
        "id": "3PsOwGKyZxYw"
      }
    },
    {
      "cell_type": "code",
      "source": [
        "D = {1: 5.6, 2: 7.8, 3: 6.6, 4: 8.7, 5: 7.7}\n",
        "print(D)\n"
      ],
      "metadata": {
        "colab": {
          "base_uri": "https://localhost:8080/"
        },
        "id": "aGYBWhA_Z2nb",
        "outputId": "b4287351-f3e1-4d0e-ec6e-7aa465fa4592"
      },
      "execution_count": 36,
      "outputs": [
        {
          "output_type": "stream",
          "name": "stdout",
          "text": [
            "{1: 5.6, 2: 7.8, 3: 6.6, 4: 8.7, 5: 7.7}\n"
          ]
        }
      ]
    },
    {
      "cell_type": "markdown",
      "source": [
        "(i) WAP to add new entry in D; key=8 and value is 8.8"
      ],
      "metadata": {
        "id": "QSkMIkbeaG1E"
      }
    },
    {
      "cell_type": "code",
      "source": [
        "D[8] = 8.8\n",
        "print(D)"
      ],
      "metadata": {
        "colab": {
          "base_uri": "https://localhost:8080/"
        },
        "id": "Phf72kLwaK1I",
        "outputId": "bb23ecd9-5607-4a34-ddc3-b1e9faf627ba"
      },
      "execution_count": 37,
      "outputs": [
        {
          "output_type": "stream",
          "name": "stdout",
          "text": [
            "{1: 5.6, 2: 7.8, 3: 6.6, 4: 8.7, 5: 7.7, 8: 8.8}\n"
          ]
        }
      ]
    },
    {
      "cell_type": "markdown",
      "source": [
        "(ii) WAP to remove key=2."
      ],
      "metadata": {
        "id": "LTRhu79baZOf"
      }
    },
    {
      "cell_type": "code",
      "source": [
        "D = {1: 5.6, 2: 7.8, 3: 6.6, 4: 8.7, 5: 7.7}\n",
        "del D[2]\n",
        "print(D)"
      ],
      "metadata": {
        "colab": {
          "base_uri": "https://localhost:8080/"
        },
        "id": "tx9OeE0TabtY",
        "outputId": "0e65f313-39af-4020-e7b7-5dad0fe29afc"
      },
      "execution_count": 38,
      "outputs": [
        {
          "output_type": "stream",
          "name": "stdout",
          "text": [
            "{1: 5.6, 3: 6.6, 4: 8.7, 5: 7.7}\n"
          ]
        }
      ]
    },
    {
      "cell_type": "markdown",
      "source": [
        "(iii) WAP to check weather 6 key is present in D."
      ],
      "metadata": {
        "id": "px8cuLUvakLK"
      }
    },
    {
      "cell_type": "code",
      "source": [
        "D = {1: 5.6, 2: 7.8, 3: 6.6, 4: 8.7, 5: 7.7}\n",
        "if 6 in D:\n",
        "    print(\"Key 6 is present in D\")\n",
        "else:\n",
        "    print(\"Key 6 is not present in D\")\n"
      ],
      "metadata": {
        "colab": {
          "base_uri": "https://localhost:8080/"
        },
        "id": "x0HAtFVQarnw",
        "outputId": "85ac8c12-27c3-4205-8bbf-ace111598127"
      },
      "execution_count": 39,
      "outputs": [
        {
          "output_type": "stream",
          "name": "stdout",
          "text": [
            "Key 6 is not present in D\n"
          ]
        }
      ]
    },
    {
      "cell_type": "markdown",
      "source": [
        "(iv) WAP to count the number of elements present in D."
      ],
      "metadata": {
        "id": "mY4XcbaZaxu3"
      }
    },
    {
      "cell_type": "code",
      "source": [
        "D = {1: 5.6, 2: 7.8, 3: 6.6, 4: 8.7, 5: 7.7}\n",
        "count = len(D)\n",
        "print(\"Number of elements:\", count)\n"
      ],
      "metadata": {
        "colab": {
          "base_uri": "https://localhost:8080/"
        },
        "id": "ZCsvt_TOa1B1",
        "outputId": "e3dc8549-c13d-4e5f-f740-7df3c6798d52"
      },
      "execution_count": 40,
      "outputs": [
        {
          "output_type": "stream",
          "name": "stdout",
          "text": [
            "Number of elements: 5\n"
          ]
        }
      ]
    },
    {
      "cell_type": "markdown",
      "source": [
        "(v) WAP to add all the values present D."
      ],
      "metadata": {
        "id": "9go3LpSva4i2"
      }
    },
    {
      "cell_type": "code",
      "source": [
        "D = {1: 5.6, 2: 7.8, 3: 6.6, 4: 8.7, 5: 7.7}\n",
        "total_sum = sum(D.values())\n",
        "print(\"Sum of values:\", total_sum)\n"
      ],
      "metadata": {
        "colab": {
          "base_uri": "https://localhost:8080/"
        },
        "id": "tJmtQ0C2a8Uh",
        "outputId": "7c563c4d-582b-4e9f-bf43-507b35511d9f"
      },
      "execution_count": 41,
      "outputs": [
        {
          "output_type": "stream",
          "name": "stdout",
          "text": [
            "Sum of values: 36.4\n"
          ]
        }
      ]
    },
    {
      "cell_type": "markdown",
      "source": [
        "(vi) WAP to update the value of 3 to 7.1."
      ],
      "metadata": {
        "id": "7ESyUoPZbILM"
      }
    },
    {
      "cell_type": "code",
      "source": [
        "D = {1: 5.6, 2: 7.8, 3: 6.6, 4: 8.7, 5: 7.7}\n",
        "D[3] = 7.1\n",
        "print(D)\n"
      ],
      "metadata": {
        "colab": {
          "base_uri": "https://localhost:8080/"
        },
        "id": "Oe7oBhtObI65",
        "outputId": "274a97b1-5b71-4f91-f576-dad6d9108b3b"
      },
      "execution_count": 42,
      "outputs": [
        {
          "output_type": "stream",
          "name": "stdout",
          "text": [
            "{1: 5.6, 2: 7.8, 3: 7.1, 4: 8.7, 5: 7.7}\n"
          ]
        }
      ]
    },
    {
      "cell_type": "markdown",
      "source": [
        "(vii) WAP to clear the dictionary."
      ],
      "metadata": {
        "id": "_frZMhJ4bNzR"
      }
    },
    {
      "cell_type": "code",
      "source": [
        "D = {1: 5.6, 2: 7.8, 3: 6.6, 4: 8.7, 5: 7.7}\n",
        "D.clear()\n",
        "print(D)\n"
      ],
      "metadata": {
        "colab": {
          "base_uri": "https://localhost:8080/"
        },
        "id": "7zIDcXgSbZT1",
        "outputId": "4562edd8-d5ff-449a-eedf-7787318a761c"
      },
      "execution_count": 43,
      "outputs": [
        {
          "output_type": "stream",
          "name": "stdout",
          "text": [
            "{}\n"
          ]
        }
      ]
    },
    {
      "cell_type": "markdown",
      "source": [
        "**Q3. S1 is a set defined as S1= [10, 20, 30, 40, 50, 60].\n",
        " S2 is a set defined as S2= [40, 50, 60, 70, 80, 90].**"
      ],
      "metadata": {
        "id": "9EdbCSxFbfC7"
      }
    },
    {
      "cell_type": "code",
      "source": [
        "S1 = {10, 20, 30, 40, 50, 60}\n",
        "S2 = {40, 50, 60, 70, 80, 90}\n",
        "print(S1)\n",
        "print(S2)"
      ],
      "metadata": {
        "colab": {
          "base_uri": "https://localhost:8080/"
        },
        "id": "QQchsoqZbqKY",
        "outputId": "79d81dbf-ddd9-44c0-fab8-e539f639ec97"
      },
      "execution_count": 48,
      "outputs": [
        {
          "output_type": "stream",
          "name": "stdout",
          "text": [
            "{50, 20, 40, 10, 60, 30}\n",
            "{80, 50, 70, 40, 90, 60}\n"
          ]
        }
      ]
    },
    {
      "cell_type": "markdown",
      "source": [
        "(i) WAP to add 55 and 66 in Set S1."
      ],
      "metadata": {
        "id": "Q4pW8FwPcjbN"
      }
    },
    {
      "cell_type": "code",
      "source": [
        "S1.add(55)\n",
        "S1.add(66)\n",
        "print(S1)\n"
      ],
      "metadata": {
        "colab": {
          "base_uri": "https://localhost:8080/"
        },
        "id": "_zth5RancmY0",
        "outputId": "361286f8-13c1-4176-aa81-798b71b97623"
      },
      "execution_count": 49,
      "outputs": [
        {
          "output_type": "stream",
          "name": "stdout",
          "text": [
            "{50, 66, 20, 55, 40, 10, 60, 30}\n"
          ]
        }
      ]
    },
    {
      "cell_type": "markdown",
      "source": [
        "(ii) WAP to remove 10 and 30 from Set S1"
      ],
      "metadata": {
        "id": "8pVp1fsqd-f_"
      }
    },
    {
      "cell_type": "code",
      "source": [
        "S1.remove(10)\n",
        "S1.remove(30)\n",
        "print(S1)\n"
      ],
      "metadata": {
        "colab": {
          "base_uri": "https://localhost:8080/"
        },
        "id": "rBSlxnsCeB0o",
        "outputId": "8751a122-979b-4a2e-b594-0c0b245f741a"
      },
      "execution_count": 50,
      "outputs": [
        {
          "output_type": "stream",
          "name": "stdout",
          "text": [
            "{50, 66, 20, 55, 40, 60}\n"
          ]
        }
      ]
    },
    {
      "cell_type": "markdown",
      "source": [
        "(iii) WAP to check whether 40 is present in S1."
      ],
      "metadata": {
        "id": "g_uCfnMbePWi"
      }
    },
    {
      "cell_type": "code",
      "source": [
        "if 40 in S1:\n",
        "    print(\"40 is present in S1\")\n",
        "else:\n",
        "    print(\"40 is not present in S1\")\n"
      ],
      "metadata": {
        "colab": {
          "base_uri": "https://localhost:8080/"
        },
        "id": "S4UnRpeYeScB",
        "outputId": "18d7873b-e4d9-46bd-bc9e-eab629ad41f5"
      },
      "execution_count": 51,
      "outputs": [
        {
          "output_type": "stream",
          "name": "stdout",
          "text": [
            "40 is present in S1\n"
          ]
        }
      ]
    },
    {
      "cell_type": "markdown",
      "source": [
        "(iv) WAP to find the union between S1 and S2."
      ],
      "metadata": {
        "id": "l80Zp3pzeWIv"
      }
    },
    {
      "cell_type": "code",
      "source": [
        "union_set = S1.union(S2)\n",
        "# or\n",
        "# union_set = S1 | S2\n",
        "print(union_set)\n"
      ],
      "metadata": {
        "colab": {
          "base_uri": "https://localhost:8080/"
        },
        "id": "FJF1fZVxeYwC",
        "outputId": "7b4ea088-365f-4812-9186-c5473a85edd0"
      },
      "execution_count": 52,
      "outputs": [
        {
          "output_type": "stream",
          "name": "stdout",
          "text": [
            "{66, 70, 40, 80, 50, 20, 55, 90, 60}\n"
          ]
        }
      ]
    },
    {
      "cell_type": "markdown",
      "source": [
        "(v) WAP to find the intersection between S1 and S2."
      ],
      "metadata": {
        "id": "IVPrYXWEeka_"
      }
    },
    {
      "cell_type": "code",
      "source": [
        "intersection_set = S1.intersection(S2)\n",
        "# or\n",
        "# intersection_set = S1 & S2\n",
        "print(intersection_set)\n"
      ],
      "metadata": {
        "colab": {
          "base_uri": "https://localhost:8080/"
        },
        "id": "q2xV5reKenYx",
        "outputId": "9f7b52e3-73f7-483b-98d0-cc762f4d0f00"
      },
      "execution_count": 53,
      "outputs": [
        {
          "output_type": "stream",
          "name": "stdout",
          "text": [
            "{40, 50, 60}\n"
          ]
        }
      ]
    },
    {
      "cell_type": "markdown",
      "source": [
        "(vi) WAP to find the S1 - S2."
      ],
      "metadata": {
        "id": "NuRYsYEVetBP"
      }
    },
    {
      "cell_type": "code",
      "source": [
        "difference_set = S1.difference(S2)\n",
        "# or\n",
        "# difference_set = S1 - S2\n",
        "print(difference_set)\n"
      ],
      "metadata": {
        "colab": {
          "base_uri": "https://localhost:8080/"
        },
        "id": "wab8-rTvewRe",
        "outputId": "753477b0-55f9-4926-9559-04eab8b66087"
      },
      "execution_count": 54,
      "outputs": [
        {
          "output_type": "stream",
          "name": "stdout",
          "text": [
            "{66, 20, 55}\n"
          ]
        }
      ]
    },
    {
      "cell_type": "markdown",
      "source": [
        "**Q4. Write the following program.**"
      ],
      "metadata": {
        "id": "27gCFfqPe4AH"
      }
    },
    {
      "cell_type": "markdown",
      "source": [
        "(i) WAP to print 100 random strings whose length between 6 and 8."
      ],
      "metadata": {
        "id": "nQ8kQQWFe9vF"
      }
    },
    {
      "cell_type": "code",
      "source": [
        "import random\n",
        "import string\n",
        "\n",
        "def generate_random_string():\n",
        "    length = random.randint(6, 8)\n",
        "    return ''.join(random.choices(string.ascii_letters + string.digits, k=length))\n",
        "\n",
        "for _ in range(100):\n",
        "    random_string = generate_random_string()\n",
        "    print(random_string)\n"
      ],
      "metadata": {
        "colab": {
          "base_uri": "https://localhost:8080/"
        },
        "id": "0er1Sy9JfIYl",
        "outputId": "731c1436-50b3-4907-998e-5ef12202b299"
      },
      "execution_count": 55,
      "outputs": [
        {
          "output_type": "stream",
          "name": "stdout",
          "text": [
            "EpK6jNBX\n",
            "u5AqDm\n",
            "8RerCZQ\n",
            "9iRFtSDj\n",
            "46QsdyRo\n",
            "c4N2MB\n",
            "mNBHkgh\n",
            "ROlm5PXz\n",
            "1xzg6uk\n",
            "Jh5WgFX\n",
            "BPzOrf\n",
            "Bj4Kpud2\n",
            "Dif4PEh\n",
            "g0fWJhIl\n",
            "PClxKZG\n",
            "ePk0XSB\n",
            "IbphLzQ\n",
            "FlZ7kQF\n",
            "H4qiGF\n",
            "aaRT0K\n",
            "VhcUVq9\n",
            "zetIip\n",
            "56ByWh\n",
            "j0dBB9O\n",
            "QSotPkt3\n",
            "OFbL2i\n",
            "HbUGBfIp\n",
            "wGrTbJ\n",
            "veJqklp\n",
            "oVtKKc\n",
            "swDJKof\n",
            "CSzJy58A\n",
            "TOejIm0\n",
            "Wx2rNn7\n",
            "tBSlyo\n",
            "Y5FLC8Q1\n",
            "jTdZkls1\n",
            "68nrQn\n",
            "M0jXTWw\n",
            "NiXi6UVf\n",
            "E1wtBw\n",
            "uvm73vF\n",
            "DXeTCb\n",
            "QzCVcNJ4\n",
            "BHtJbn\n",
            "oCfm1xI\n",
            "gUBXoTb5\n",
            "pNC3DD\n",
            "19XnqmD\n",
            "sCzSE4\n",
            "ceW0G4f\n",
            "m1RC2AmF\n",
            "yLwG4i\n",
            "NnKPmX\n",
            "1vhJgS\n",
            "dxJG7g\n",
            "cGmyOmQw\n",
            "o7uebr5N\n",
            "4TDdyG6\n",
            "rMShcHH\n",
            "XQJ05UN\n",
            "ZRbTdQY\n",
            "ysALtc\n",
            "sM5Djm\n",
            "L5FnMGE\n",
            "ZsvEH8O\n",
            "S7RlOZ5D\n",
            "JOP9Gsk\n",
            "EeYupPW\n",
            "fQzWpE\n",
            "9HEjBo\n",
            "jf2toep\n",
            "2H8MHd\n",
            "XH3n0fJ\n",
            "wIlwdL\n",
            "qe1RnX\n",
            "ALXRor\n",
            "23hXgdN\n",
            "tglNFUcx\n",
            "P6EtpQ\n",
            "eMfmuN\n",
            "MKEKRZ\n",
            "5heNt5nr\n",
            "8O8m30\n",
            "7Bsl4O9\n",
            "owlTMtF\n",
            "h4EUSAv1\n",
            "rQW7e8AE\n",
            "oG59oVCg\n",
            "YIEMHgT\n",
            "0KS70i\n",
            "gN37zP\n",
            "VbITGp\n",
            "9RRddQP6\n",
            "KZmNel\n",
            "A2Kl6W\n",
            "s2H69Ju\n",
            "MR1jke\n",
            "m4Y7Fg\n",
            "yvK3igj\n"
          ]
        }
      ]
    },
    {
      "cell_type": "markdown",
      "source": [
        "(ii) WAP to print all prime numbers between 600 and 800. We'll use a helper function to check for primality and iterate through the given range."
      ],
      "metadata": {
        "id": "GEtiMfTxfV2z"
      }
    },
    {
      "cell_type": "code",
      "source": [
        "def is_prime(num):\n",
        "    if num < 2:\n",
        "        return False\n",
        "    for i in range(2, int(num ** 0.5) + 1):\n",
        "        if num % i == 0:\n",
        "            return False\n",
        "    return True\n",
        "\n",
        "for num in range(600, 801):\n",
        "    if is_prime(num):\n",
        "        print(num)\n"
      ],
      "metadata": {
        "colab": {
          "base_uri": "https://localhost:8080/"
        },
        "id": "3f5unfoZfY7J",
        "outputId": "e3ec8eb1-ee90-4dee-866c-848719ba8a8e"
      },
      "execution_count": 56,
      "outputs": [
        {
          "output_type": "stream",
          "name": "stdout",
          "text": [
            "601\n",
            "607\n",
            "613\n",
            "617\n",
            "619\n",
            "631\n",
            "641\n",
            "643\n",
            "647\n",
            "653\n",
            "659\n",
            "661\n",
            "673\n",
            "677\n",
            "683\n",
            "691\n",
            "701\n",
            "709\n",
            "719\n",
            "727\n",
            "733\n",
            "739\n",
            "743\n",
            "751\n",
            "757\n",
            "761\n",
            "769\n",
            "773\n",
            "787\n",
            "797\n"
          ]
        }
      ]
    },
    {
      "cell_type": "markdown",
      "source": [
        "(iii) WAP to print all numbers between 100 and 1000 that are divisible by 7 and 9. We'll iterate through the range and check for divisibility."
      ],
      "metadata": {
        "id": "36TNcQn4fcBO"
      }
    },
    {
      "cell_type": "code",
      "source": [
        "for num in range(100, 1001):\n",
        "    if num % 7 == 0 and num % 9 == 0:\n",
        "        print(num)\n"
      ],
      "metadata": {
        "colab": {
          "base_uri": "https://localhost:8080/"
        },
        "id": "6duVM8Jjffo1",
        "outputId": "2d1f20ce-906a-49cf-a107-aa99472f5f78"
      },
      "execution_count": 57,
      "outputs": [
        {
          "output_type": "stream",
          "name": "stdout",
          "text": [
            "126\n",
            "189\n",
            "252\n",
            "315\n",
            "378\n",
            "441\n",
            "504\n",
            "567\n",
            "630\n",
            "693\n",
            "756\n",
            "819\n",
            "882\n",
            "945\n"
          ]
        }
      ]
    },
    {
      "cell_type": "markdown",
      "source": [
        "**Q5. WAP to create two lists of 10 random numbers between 10 and 30; Find**"
      ],
      "metadata": {
        "id": "_ub0hklxfigW"
      }
    },
    {
      "cell_type": "code",
      "source": [
        "import random\n",
        "\n",
        "# Generate random numbers between 10 and 30\n",
        "list1 = [random.randint(10, 30) for _ in range(10)]\n",
        "list2 = [random.randint(10, 30) for _ in range(10)]\n",
        "\n",
        "print(\"List 1:\", list1)\n",
        "print(\"List 2:\", list2)\n"
      ],
      "metadata": {
        "colab": {
          "base_uri": "https://localhost:8080/"
        },
        "id": "FiulnpqZfpyF",
        "outputId": "3e1e51af-78f6-42b3-f1f1-0389db06cd72"
      },
      "execution_count": 58,
      "outputs": [
        {
          "output_type": "stream",
          "name": "stdout",
          "text": [
            "List 1: [20, 19, 12, 18, 10, 15, 14, 23, 14, 30]\n",
            "List 2: [12, 11, 21, 27, 20, 19, 26, 22, 26, 11]\n"
          ]
        }
      ]
    },
    {
      "cell_type": "markdown",
      "source": [
        "(i) Common numbers in the two lists\n"
      ],
      "metadata": {
        "id": "fqpDLn-AfyEH"
      }
    },
    {
      "cell_type": "code",
      "source": [
        "common_numbers = list(set(list1) & set(list2))\n",
        "print(\"Common numbers:\", common_numbers)"
      ],
      "metadata": {
        "colab": {
          "base_uri": "https://localhost:8080/"
        },
        "id": "VBeU1oZdgAHc",
        "outputId": "7193771d-eaf2-4f3a-a8b7-b1f669518ee5"
      },
      "execution_count": 59,
      "outputs": [
        {
          "output_type": "stream",
          "name": "stdout",
          "text": [
            "Common numbers: [19, 12, 20]\n"
          ]
        }
      ]
    },
    {
      "cell_type": "markdown",
      "source": [
        "(ii) Unique numbers in both the list"
      ],
      "metadata": {
        "id": "Ivw17JNugEHF"
      }
    },
    {
      "cell_type": "code",
      "source": [
        "unique_numbers = list(set(list1 + list2))\n",
        "print(\"Unique numbers:\", unique_numbers)"
      ],
      "metadata": {
        "colab": {
          "base_uri": "https://localhost:8080/"
        },
        "id": "ruK4-TEQgGht",
        "outputId": "e217531f-cc23-4565-f441-bc0b83a05967"
      },
      "execution_count": 60,
      "outputs": [
        {
          "output_type": "stream",
          "name": "stdout",
          "text": [
            "Unique numbers: [10, 11, 12, 14, 15, 18, 19, 20, 21, 22, 23, 26, 27, 30]\n"
          ]
        }
      ]
    },
    {
      "cell_type": "markdown",
      "source": [
        "(iii) Minimum in both the list\n"
      ],
      "metadata": {
        "id": "1ZWoBt9RgKMg"
      }
    },
    {
      "cell_type": "code",
      "source": [
        "minimum1 = min(list1)\n",
        "minimum2 = min(list2)\n",
        "print(\"Minimum in List 1:\", minimum1)\n",
        "print(\"Minimum in List 2:\", minimum2)"
      ],
      "metadata": {
        "colab": {
          "base_uri": "https://localhost:8080/"
        },
        "id": "2bqG_e00gNnB",
        "outputId": "e5477d6b-e5b1-4b07-8b12-4421e5d4ad43"
      },
      "execution_count": 61,
      "outputs": [
        {
          "output_type": "stream",
          "name": "stdout",
          "text": [
            "Minimum in List 1: 10\n",
            "Minimum in List 2: 11\n"
          ]
        }
      ]
    },
    {
      "cell_type": "markdown",
      "source": [
        "(iv) Maximum in both the list\n"
      ],
      "metadata": {
        "id": "6d_EbzlBgRX_"
      }
    },
    {
      "cell_type": "code",
      "source": [
        "maximum1 = max(list1)\n",
        "maximum2 = max(list2)\n",
        "print(\"Maximum in List 1:\", maximum1)\n",
        "print(\"Maximum in List 2:\", maximum2)"
      ],
      "metadata": {
        "colab": {
          "base_uri": "https://localhost:8080/"
        },
        "id": "85L9GzJ8gUCw",
        "outputId": "99cf12ed-a7ad-4dff-be81-a3533f547f71"
      },
      "execution_count": 62,
      "outputs": [
        {
          "output_type": "stream",
          "name": "stdout",
          "text": [
            "Maximum in List 1: 30\n",
            "Maximum in List 2: 27\n"
          ]
        }
      ]
    },
    {
      "cell_type": "markdown",
      "source": [
        "(v) Sum of both the lists"
      ],
      "metadata": {
        "id": "DLw532c1gYLE"
      }
    },
    {
      "cell_type": "code",
      "source": [
        "sum_lists = sum(list1) + sum(list2)\n",
        "print(\"Sum of both lists:\", sum_lists)"
      ],
      "metadata": {
        "colab": {
          "base_uri": "https://localhost:8080/"
        },
        "id": "YTFeoZ25gabR",
        "outputId": "e16b4d62-fe17-451f-e4e6-bd3167719d0f"
      },
      "execution_count": 63,
      "outputs": [
        {
          "output_type": "stream",
          "name": "stdout",
          "text": [
            "Sum of both lists: 370\n"
          ]
        }
      ]
    },
    {
      "cell_type": "markdown",
      "source": [
        "**Q6. WAP to create a list of 100 random numbers between 100 and 900. Count and print the**"
      ],
      "metadata": {
        "id": "5NAOxNdmgdow"
      }
    },
    {
      "cell_type": "code",
      "source": [
        "import random\n",
        "\n",
        "# Generate random numbers between 100 and 900\n",
        "numbers = [random.randint(100, 900) for _ in range(100)]\n",
        "print(numbers)"
      ],
      "metadata": {
        "colab": {
          "base_uri": "https://localhost:8080/"
        },
        "id": "tQy4-Pzvgoqm",
        "outputId": "2e724088-73d9-4cfd-a4a3-2fd523e93eaf"
      },
      "execution_count": 64,
      "outputs": [
        {
          "output_type": "stream",
          "name": "stdout",
          "text": [
            "[271, 836, 447, 760, 439, 715, 744, 634, 283, 763, 223, 281, 740, 519, 483, 707, 290, 506, 734, 646, 744, 658, 887, 628, 541, 574, 853, 371, 242, 702, 863, 168, 348, 786, 139, 567, 144, 698, 119, 266, 301, 379, 635, 868, 204, 543, 678, 489, 339, 170, 852, 582, 467, 412, 245, 716, 411, 619, 747, 800, 607, 262, 365, 328, 404, 478, 893, 747, 886, 598, 595, 659, 560, 441, 103, 445, 107, 282, 569, 644, 553, 817, 853, 190, 672, 278, 677, 836, 760, 623, 577, 387, 181, 736, 284, 455, 184, 646, 850, 538]\n"
          ]
        }
      ]
    },
    {
      "cell_type": "markdown",
      "source": [
        "(i) All odd numbers\n",
        "(ii) All even numbers\n",
        "(iii) All prime numbers"
      ],
      "metadata": {
        "id": "2D57igv8g0dn"
      }
    },
    {
      "cell_type": "code",
      "source": [
        "odd_numbers = []\n",
        "even_numbers = []\n",
        "prime_numbers = []\n",
        "\n",
        "# Iterate over the numbers list\n",
        "for num in numbers:\n",
        "    # Check if the number is odd\n",
        "    if num % 2 != 0:\n",
        "        odd_numbers.append(num)\n",
        "    # Check if the number is even\n",
        "    elif num % 2 == 0:\n",
        "        even_numbers.append(num)\n",
        "    # Check if the number is prime\n",
        "    is_prime = True\n",
        "    if num < 2:\n",
        "        is_prime = False\n",
        "    else:\n",
        "        for i in range(2, int(num ** 0.5) + 1):\n",
        "            if num % i == 0:\n",
        "                is_prime = False\n",
        "                break\n",
        "    if is_prime:\n",
        "        prime_numbers.append(num)\n",
        "\n",
        "# Count and print the odd numbers\n",
        "print(\"Odd numbers count:\", len(odd_numbers))\n",
        "print(\"Odd numbers:\", odd_numbers)\n",
        "\n",
        "# Count and print the even numbers\n",
        "print(\"Even numbers count:\", len(even_numbers))\n",
        "print(\"Even numbers:\", even_numbers)\n",
        "\n",
        "# Count and print the prime numbers\n",
        "print(\"Prime numbers count:\", len(prime_numbers))\n",
        "print(\"Prime numbers:\", prime_numbers)"
      ],
      "metadata": {
        "colab": {
          "base_uri": "https://localhost:8080/"
        },
        "id": "7tGJ1dwpg2-m",
        "outputId": "30ffcd3b-c375-43fe-cbc2-4ef6e9244e0d"
      },
      "execution_count": 65,
      "outputs": [
        {
          "output_type": "stream",
          "name": "stdout",
          "text": [
            "Odd numbers count: 50\n",
            "Odd numbers: [271, 447, 439, 715, 283, 763, 223, 281, 519, 483, 707, 887, 541, 853, 371, 863, 139, 567, 119, 301, 379, 635, 543, 489, 339, 467, 245, 411, 619, 747, 607, 365, 893, 747, 595, 659, 441, 103, 445, 107, 569, 553, 817, 853, 677, 623, 577, 387, 181, 455]\n",
            "Even numbers count: 50\n",
            "Even numbers: [836, 760, 744, 634, 740, 290, 506, 734, 646, 744, 658, 628, 574, 242, 702, 168, 348, 786, 144, 698, 266, 868, 204, 678, 170, 852, 582, 412, 716, 800, 262, 328, 404, 478, 886, 598, 560, 282, 644, 190, 672, 278, 836, 760, 736, 284, 184, 646, 850, 538]\n",
            "Prime numbers count: 22\n",
            "Prime numbers: [271, 439, 283, 223, 281, 887, 541, 853, 863, 139, 379, 467, 619, 607, 659, 103, 107, 569, 853, 677, 577, 181]\n"
          ]
        }
      ]
    },
    {
      "cell_type": "markdown",
      "source": [
        "**Q7. D is a dictionary defined as D={1:\"One\",2:\"Two\",3:\"Three\",4:\"Four\", 5:\"Five\"}.**"
      ],
      "metadata": {
        "id": "mpoviX9whHP2"
      }
    },
    {
      "cell_type": "code",
      "source": [
        "D = {1: \"One\", 2: \"Two\", 3: \"Three\", 4: \"Four\", 5: \"Five\"}\n",
        "\n"
      ],
      "metadata": {
        "id": "7iw7dIeahUyD"
      },
      "execution_count": 66,
      "outputs": []
    },
    {
      "cell_type": "markdown",
      "source": [
        "WAP to read all the keys and values from dictionary and write to the file in the given below format.\n",
        "Key1, Value1\n",
        "Key2, Value2\n",
        "Key3, Value3"
      ],
      "metadata": {
        "id": "s5KJ2NcPhYYs"
      }
    },
    {
      "cell_type": "code",
      "source": [
        "D = {1: \"One\", 2: \"Two\", 3: \"Three\", 4: \"Four\", 5: \"Five\"}\n",
        "# Open the file in write mode\n",
        "with open(\"dictionary_output.txt\", \"w\") as file:\n",
        "    # Iterate over the dictionary items\n",
        "    for key, value in D.items():\n",
        "        # Write the key-value pair to the file\n",
        "        file.write(f\"{key}, {value}\\n\")\n",
        "\n",
        "print(\"Dictionary data written to the file.\")"
      ],
      "metadata": {
        "colab": {
          "base_uri": "https://localhost:8080/"
        },
        "id": "HamPcxhShYtG",
        "outputId": "d3d7c606-7b58-4b62-ea0a-c25ade97dc77"
      },
      "execution_count": 67,
      "outputs": [
        {
          "output_type": "stream",
          "name": "stdout",
          "text": [
            "Dictionary data written to the file.\n"
          ]
        }
      ]
    },
    {
      "cell_type": "markdown",
      "source": [
        "**Q8. L is a list defined as L={\"One\",\"Two\",\"Three\",\"Four\",\"Five\"}.**"
      ],
      "metadata": {
        "id": "i_LAV8Tshml6"
      }
    },
    {
      "cell_type": "code",
      "source": [
        "L=[\"One\",\"Two\",\"Three\",\"Four\",\"Five\"]"
      ],
      "metadata": {
        "id": "87caEMclhrMN"
      },
      "execution_count": 68,
      "outputs": []
    },
    {
      "cell_type": "markdown",
      "source": [
        "WAP to count the length of reach element from a list and write to the file in the given below format:\n",
        "One, 3\n",
        "Two, 3\n",
        "Four, 4"
      ],
      "metadata": {
        "id": "5FS1KZKJhwjg"
      }
    },
    {
      "cell_type": "code",
      "source": [
        "L = [\"One\", \"Two\", \"Three\", \"Four\", \"Five\"]\n",
        "\n",
        "# Open the file in write mode\n",
        "with open(\"list_length_output.txt\", \"w\") as file:\n",
        "    # Iterate over the list\n",
        "    for element in L:\n",
        "        # Calculate the length of the element\n",
        "        length = len(element)\n",
        "        # Write the element and its length to the file\n",
        "        file.write(f\"{element}, {length}\\n\")\n",
        "\n",
        "print(\"List lengths written to the file.\")\n"
      ],
      "metadata": {
        "colab": {
          "base_uri": "https://localhost:8080/"
        },
        "id": "wKqZcBebhzZV",
        "outputId": "3eebf9c7-4362-4708-a4ed-e01379caba10"
      },
      "execution_count": 69,
      "outputs": [
        {
          "output_type": "stream",
          "name": "stdout",
          "text": [
            "List lengths written to the file.\n"
          ]
        }
      ]
    },
    {
      "cell_type": "markdown",
      "source": [
        "**Q9. Write to the file 100 random strings whose length between 10 and 15.**"
      ],
      "metadata": {
        "id": "RL3NoYi8iAW5"
      }
    },
    {
      "cell_type": "code",
      "source": [
        "import random\n",
        "import string\n",
        "\n",
        "# Generate random strings\n",
        "random_strings = []\n",
        "for _ in range(100):\n",
        "    length = random.randint(10, 15)\n",
        "    random_string = ''.join(random.choices(string.ascii_letters + string.digits, k=length))\n",
        "    random_strings.append(random_string)\n",
        "\n",
        "# Open the file in write mode\n",
        "with open(\"random_strings_output.txt\", \"w\") as file:\n",
        "    # Write each random string to the file\n",
        "    for random_string in random_strings:\n",
        "        file.write(random_string + \"\\n\")\n",
        "\n",
        "print(\"Random strings written to the file.\")\n"
      ],
      "metadata": {
        "colab": {
          "base_uri": "https://localhost:8080/"
        },
        "id": "zh_ndn4kiEUJ",
        "outputId": "dd445166-4e95-4f61-eb61-775cfdb43673"
      },
      "execution_count": 70,
      "outputs": [
        {
          "output_type": "stream",
          "name": "stdout",
          "text": [
            "Random strings written to the file.\n"
          ]
        }
      ]
    },
    {
      "cell_type": "markdown",
      "source": [
        "**Q10. Write to the file all prime numbers between 600 and 800.**"
      ],
      "metadata": {
        "id": "vHr7YhzziKY8"
      }
    },
    {
      "cell_type": "code",
      "source": [
        "def is_prime(n):\n",
        "    if n < 2:\n",
        "        return False\n",
        "    for i in range(2, int(n ** 0.5) + 1):\n",
        "        if n % i == 0:\n",
        "            return False\n",
        "    return True\n",
        "\n",
        "# Generate prime numbers between 600 and 800\n",
        "prime_numbers = [num for num in range(600, 801) if is_prime(num)]\n",
        "\n",
        "# Open the file in write mode\n",
        "with open(\"prime_numbers_output.txt\", \"w\") as file:\n",
        "    # Write each prime number to the file\n",
        "    for prime_number in prime_numbers:\n",
        "        file.write(str(prime_number) + \"\\n\")\n",
        "\n",
        "print(\"Prime numbers written to the file.\")\n"
      ],
      "metadata": {
        "colab": {
          "base_uri": "https://localhost:8080/"
        },
        "id": "iQMQtC-ZiPpB",
        "outputId": "643d7c9b-5360-4caa-d0c5-2dc53bd8eb9c"
      },
      "execution_count": 71,
      "outputs": [
        {
          "output_type": "stream",
          "name": "stdout",
          "text": [
            "Prime numbers written to the file.\n"
          ]
        }
      ]
    },
    {
      "cell_type": "markdown",
      "source": [
        "**Q11. WAP to calculate the time taken by a program.**"
      ],
      "metadata": {
        "id": "Ij2DcnxViXHt"
      }
    },
    {
      "cell_type": "code",
      "source": [
        "import time\n",
        "\n",
        "# Start the timer\n",
        "start_time = time.time()\n",
        "\n",
        "# Code block to measure the execution time\n",
        "# Place your program code here\n",
        "\n",
        "# Simulating a delay of 2 seconds\n",
        "time.sleep(2)\n",
        "\n",
        "# End the timer\n",
        "end_time = time.time()\n",
        "\n",
        "# Calculate the elapsed time\n",
        "elapsed_time = end_time - start_time\n",
        "\n",
        "# Print the elapsed time\n",
        "print(f\"Elapsed time: {elapsed_time} seconds\")\n"
      ],
      "metadata": {
        "colab": {
          "base_uri": "https://localhost:8080/"
        },
        "id": "u2Bh_eAaiaVN",
        "outputId": "31c62af2-bfa2-411d-d154-707941916fe2"
      },
      "execution_count": 72,
      "outputs": [
        {
          "output_type": "stream",
          "name": "stdout",
          "text": [
            "Elapsed time: 2.0032875537872314 seconds\n"
          ]
        }
      ]
    },
    {
      "cell_type": "markdown",
      "source": [
        "**Q12. WAP to sort following number of elements in a list, calculate time taken and plot the graph.**"
      ],
      "metadata": {
        "id": "3BUnLWEviiBa"
      }
    },
    {
      "cell_type": "code",
      "source": [
        "import time\n",
        "import matplotlib.pyplot as plt\n",
        "\n",
        "def sort_list(elements):\n",
        "    # Generate a list of random numbers\n",
        "    my_list = list(range(elements, 0, -1))\n",
        "    \n",
        "    # Start the timer\n",
        "    start_time = time.time()\n",
        "    \n",
        "    # Sort the list\n",
        "    my_list.sort()\n",
        "    \n",
        "    # End the timer\n",
        "    end_time = time.time()\n",
        "    \n",
        "    # Calculate the elapsed time\n",
        "    elapsed_time = end_time - start_time\n",
        "    \n",
        "    return elapsed_time\n",
        "\n",
        "# Define the number of elements in the list\n",
        "elements = [5000, 10000, 15000, 20000, 25000]\n",
        "\n",
        "# Initialize lists to store the time taken and number of elements\n",
        "time_taken = []\n",
        "num_elements = []\n",
        "\n",
        "# Sort the lists and measure the time taken\n",
        "for element in elements:\n",
        "    elapsed_time = sort_list(element)\n",
        "    time_taken.append(elapsed_time)\n",
        "    num_elements.append(element)\n",
        "\n",
        "# Plot the graph\n",
        "plt.plot(num_elements, time_taken, 'o-')\n",
        "plt.xlabel('Number of Elements')\n",
        "plt.ylabel('Time Taken (seconds)')\n",
        "plt.title('Sorting Time vs Number of Elements')\n",
        "plt.grid(True)\n",
        "plt.show()\n"
      ],
      "metadata": {
        "colab": {
          "base_uri": "https://localhost:8080/",
          "height": 472
        },
        "id": "56wOeExFilyZ",
        "outputId": "2149f362-7508-4009-e4a9-8c69db004c28"
      },
      "execution_count": 73,
      "outputs": [
        {
          "output_type": "display_data",
          "data": {
            "text/plain": [
              "<Figure size 640x480 with 1 Axes>"
            ],
            "image/png": "[encoded data removed]"
          },
          "metadata": {}
        }
      ]
    },
    {
      "cell_type": "markdown",
      "source": [
        "**Q13. WAP to create a dictionary of student marks in five subjects and you have to find the student having maximum and minimum average marks.**"
      ],
      "metadata": {
        "id": "yLiYCxbni01U"
      }
    },
    {
      "cell_type": "code",
      "source": [
        "def calculate_average_marks(marks):\n",
        "    total_marks = sum(marks)\n",
        "    average_marks = total_marks / len(marks)\n",
        "    return average_marks\n",
        "\n",
        "# Create a dictionary of student marks\n",
        "student_marks = {\n",
        "    \"John\": [90, 85, 92, 88, 95],\n",
        "    \"Emily\": [80, 75, 85, 90, 88],\n",
        "    \"Michael\": [92, 88, 95, 90, 85],\n",
        "    \"Sophia\": [85, 92, 88, 95, 90],\n",
        "    \"William\": [75, 80, 78, 82, 80]\n",
        "}\n",
        "\n",
        "# Calculate the average marks for each student\n",
        "average_marks_dict = {}\n",
        "for student, marks in student_marks.items():\n",
        "    average_marks = calculate_average_marks(marks)\n",
        "    average_marks_dict[student] = average_marks\n",
        "\n",
        "# Find the student with maximum and minimum average marks\n",
        "max_average_student = max(average_marks_dict, key=average_marks_dict.get)\n",
        "min_average_student = min(average_marks_dict, key=average_marks_dict.get)\n",
        "\n",
        "# Print the results\n",
        "print(f\"Student with maximum average marks: {max_average_student}\")\n",
        "print(f\"Student with minimum average marks: {min_average_student}\")\n"
      ],
      "metadata": {
        "colab": {
          "base_uri": "https://localhost:8080/"
        },
        "id": "An9GWfNEi-lR",
        "outputId": "1b01da74-a26c-4dce-a134-186d4a5630be"
      },
      "execution_count": 74,
      "outputs": [
        {
          "output_type": "stream",
          "name": "stdout",
          "text": [
            "Student with maximum average marks: John\n",
            "Student with minimum average marks: William\n"
          ]
        }
      ]
    }
  ]
}